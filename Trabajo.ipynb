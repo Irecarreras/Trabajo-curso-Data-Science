{
  "nbformat": 4,
  "nbformat_minor": 0,
  "metadata": {
    "colab": {
      "provenance": [],
      "toc_visible": true,
      "authorship_tag": "ABX9TyNFr9UjVeCaq7Ya1AQX6cG0",
      "include_colab_link": true
    },
    "kernelspec": {
      "name": "python3",
      "display_name": "Python 3"
    },
    "language_info": {
      "name": "python"
    }
  },
  "cells": [
    {
      "cell_type": "markdown",
      "metadata": {
        "id": "view-in-github",
        "colab_type": "text"
      },
      "source": [
        "<a href=\"https://colab.research.google.com/github/Irecarreras/Trabajo-curso-Data-Science/blob/main/Trabajo.ipynb\" target=\"_parent\"><img src=\"https://colab.research.google.com/assets/colab-badge.svg\" alt=\"Open In Colab\"/></a>"
      ]
    },
    {
      "cell_type": "code",
      "execution_count": null,
      "metadata": {
        "id": "DpGzyRSZdkcR"
      },
      "outputs": [],
      "source": []
    },
    {
      "cell_type": "markdown",
      "source": [
        "#**Introducción**"
      ],
      "metadata": {
        "id": "-6kZY39ffMO5"
      }
    },
    {
      "cell_type": "markdown",
      "source": [
        "#**Objetivos**"
      ],
      "metadata": {
        "id": "EOpCJHFJfZfL"
      }
    },
    {
      "cell_type": "markdown",
      "source": [
        "En este proyecto se analizará el conjunto de datos \"Multi Visit Thyroid Cancer monitoring\" con el objetivo de explorar qué variables pueden ser determinantes para ......FALTA (poner qué preguntas queremos resolver, etc.)"
      ],
      "metadata": {
        "id": "e6ARyDEzk3Y5"
      }
    },
    {
      "cell_type": "markdown",
      "source": [
        "#**Material y métodos**"
      ],
      "metadata": {
        "id": "0eHSoY0kgKh5"
      }
    },
    {
      "cell_type": "markdown",
      "source": [
        "##Importación de librerías"
      ],
      "metadata": {
        "id": "ETEKZk2tgwqj"
      }
    },
    {
      "cell_type": "markdown",
      "source": [
        "##Análisis exploratorio"
      ],
      "metadata": {
        "id": "8cSlg_bRgd7K"
      }
    },
    {
      "cell_type": "markdown",
      "source": [
        "Las variables del conjunto comprenden:\n",
        "\n",
        "+ **Patient_ID**: Identificador único del paciente\n",
        "+ **Visit_Number**: número de visita clínica\n",
        "+ **Visit_Timestamp**: fecha de la visita clínica\n",
        "+ **Scan_Type**: tipo de escáner realizado\n",
        "+ **Age**: edad del paciente\n",
        "+ **Gender**: sexo del paciente\n",
        "+ **Weight_kg**: peso del paciente\n",
        "+ **Height_cm**: altura del paciente\n",
        "+ **BMI**: índice de masa corporal del paciente\n",
        "+ **Family_History**: presencia de enfermedad tiroidea en la familia (0=no, 1=sí)\n",
        "+ **Smoking_Status**: indica si el paciente es fumador\n",
        "+ **Radiation_Exposure**: indica si el paciente ha estado expuesto a radioterapia o fuentes de radiación previamente\n",
        "+ **Nodule_Size_mm**: tamaño en mm del nódulo\n",
        "+ **Shape_Score**: forma del nódulo\n",
        "+ **Margin_Sharpness**: irregularidad del nódulo\n",
        "+ **Echogenicity_Index**: índice de ecogenicidad tumoral\n",
        "+ **Calcification_Presence**: presencia de calcificación, indicador maligno\n",
        "+ **Vascularity_Score**: presencia de nuevos vasos sanguíneos dentro del tumor, biomarcador de imagen maligno\n",
        "+ **Texture_Entropy**: hace referencia a la forma irregular del tumor, biomarcador de imagen maligno\n",
        "+ **Asymmetry_Score**: hacer referencia a la asimetría del tumor, biomarcador de imagen maligno\n",
        "+ **Capsular_Invasion_Indicator**: se refiere a la extensión del tumor más allá de sus márgenes originales, indicador maligno\n",
        "+ **TSH_Risk_Level**: niveles de la hormona estimulante de la tiroides, biomarcador maligno en niveles altos\n",
        "+ **TPOAb_Probability**: probabilidad de anticuerpos antitiroperoxidasa, en ocasiones podría ser biomarcador maligno en niveles altos\n",
        "+ **Thyroglobulin_Level_Predicted**: niveles de tiroglobulina, proteína producida por la tiroides, biomarcador de metástasis y recidiva en niveles altos\n",
        "+ **Calcitonin_Level_Predicted**: niveles de calcitonina, hormona producida por la tiroides, en ocasiones biomarcador de diagnóstico y monitorización\n",
        "+ **Reverse_T3_Index**: niveles de la hormona T3 reversa, producida en la tiroides, posible biomarcador de malignidad\n",
        "+ **Heart_Rate**: frecuencia cardíaca del paciente\n",
        "+ **Daily_Steps**: número de pasos diarios del paciente\n",
        "+ **Sleep_Patterns**: patrón de sueño del paciente *?????????escala*\n",
        "+ **Body_Temperature**: temperatura corporal del paciente\n",
        "+ **Pulse_Oximetry**: indica la saturación de oxígeno en la sangre\n",
        "+ **Stress_Level**: nivel de estrés del paciente\n",
        "+ **Symptom_Onset_Duration**: duración de los síntomas desde su inicio *???????escala*\n",
        "+ **Hormonal_Change_Rate**: tasa de cambio hormonal *??????escala*\n",
        "+ **Medication_Adherence**: cumplimiento con el tratamiento (0=no, 1=sí)\n",
        "+ **Diagnosis_Label**: classification of the tumor (0=benigno, 1=maligno)\n",
        "+ **Cancer_Type**: subtipo de cáncer (0=papilar, 1=folicular, 2=medular, 3=anaplásico, 4=??) *?????? no especifica cuál es cuál*\n",
        "+ **Recurrence_Risk**: riesgo de recidiva (0=no, 1=sí)"
      ],
      "metadata": {
        "id": "WcNgJnHMqhin"
      }
    },
    {
      "cell_type": "markdown",
      "source": [
        "###*Detección de outliers*"
      ],
      "metadata": {
        "id": "QPnTJbJsiy7P"
      }
    },
    {
      "cell_type": "markdown",
      "source": [
        "###*Estadística descriptiva*"
      ],
      "metadata": {
        "id": "iICi3wf6i3xO"
      }
    },
    {
      "cell_type": "markdown",
      "source": [
        "###*Visualización de datos*"
      ],
      "metadata": {
        "id": "Vv5o10OIi7Vz"
      }
    },
    {
      "cell_type": "markdown",
      "source": [
        "##Modelo predictivo"
      ],
      "metadata": {
        "id": "5bQi75ywgikO"
      }
    },
    {
      "cell_type": "markdown",
      "source": [
        "#**Resultados y conclusiones**"
      ],
      "metadata": {
        "id": "I2h4pcAhgM5P"
      }
    },
    {
      "cell_type": "markdown",
      "source": [
        "#**Bibliografía**"
      ],
      "metadata": {
        "id": "pBYjOgwbgPHc"
      }
    },
    {
      "cell_type": "markdown",
      "source": [
        "#**Anexos**"
      ],
      "metadata": {
        "id": "qjSjePPEgRp4"
      }
    }
  ]
}